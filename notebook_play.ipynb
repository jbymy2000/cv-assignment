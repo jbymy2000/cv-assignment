{
 "cells": [
  {
   "cell_type": "markdown",
   "id": "25e65b4a7bc6b876",
   "metadata": {},
   "source": [
    "#### 训练集：\n",
    "\t建议利用序号1-200图片\n",
    "#### 测试集：\n",
    "\t建议利用序号201-236图片\n",
    "\n",
    "### 项目要求：\n",
    "\t(1) 设计CNN神经网络模型，计算每张图片中煤的占比(煤炭在前景图像中的比例)\n",
    "\t(2) 撰写项目报告，主要包含如下章节结构\n",
    "\t\tAbstract：高度概括研究动机、思路、结果\n",
    "\t\tIntroduction：研究背景与意义、主要创新点\n",
    "\t\tRelated Research：相关研究调研\n",
    "\t\tMethods：采用的方法的详细说明，网络结构等\n",
    "\t\tResults：数据集，训练细节，在测试集上的实验结果等(ROC PR曲线)\n",
    "\t\tConclusion\n"
   ]
  },
  {
   "cell_type": "code",
   "id": "initial_id",
   "metadata": {
    "ExecuteTime": {
     "end_time": "2024-05-27T12:17:41.754747Z",
     "start_time": "2024-05-27T12:17:41.262714Z"
    }
   },
   "source": [
    "import random\n",
    "import numpy as np\n",
    "import matplotlib.pyplot as plt\n",
    "\n",
    "\n",
    "plt.rcParams['figure.figsize'] = (10.0, 8.0) # set default size of plots\n",
    "plt.rcParams['image.interpolation'] = 'nearest'\n",
    "plt.rcParams['image.cmap'] = 'gray'\n",
    "\n",
    "# for auto-reloading extenrnal modules\n",
    "# see http://stackoverflow.com/questions/1907993/autoreload-of-modules-in-ipython\n",
    "\n"
   ],
   "execution_count": 1,
   "outputs": []
  },
  {
   "cell_type": "code",
   "id": "472b01afb9d61310",
   "metadata": {
    "ExecuteTime": {
     "end_time": "2024-05-27T12:17:56.381394Z",
     "start_time": "2024-05-27T12:17:53.542634Z"
    }
   },
   "source": [
    "import os\n",
    "from PIL import Image\n",
    "from load_data import load_data\n",
    "\n",
    "X_train,y_train,X_val,y_val,X_test,y_test = load_data()\n",
    "X_test1 = np.copy(X_test)\n",
    "print(X_train.shape)\n"
   ],
   "execution_count": 2,
   "outputs": []
  },
  {
   "cell_type": "code",
   "id": "e04da3eb4786eef0",
   "metadata": {
    "ExecuteTime": {
     "end_time": "2024-05-27T12:18:01.351904Z",
     "start_time": "2024-05-27T12:18:00.123425Z"
    }
   },
   "source": [
    "import matplotlib.pyplot as plt\n",
    "\n",
    "# 设置显示大小\n",
    "plt.figure(figsize=(20, 10))\n",
    "\n",
    "# 展示前10个训练样本\n",
    "for i in range(10):\n",
    "    # 获取训练集中的图像和标签\n",
    "    image = X_train[i]\n",
    "    label = y_train[i]\n",
    "\n",
    "    # 绘制图像\n",
    "    plt.subplot(2, 10, i + 1)\n",
    "    plt.imshow(image)\n",
    "    plt.title(f'Train Image {i+1}')\n",
    "    plt.axis('off')\n",
    "\n",
    "    # 绘制标签\n",
    "    plt.subplot(2, 10, i + 11)\n",
    "    plt.imshow(label)\n",
    "    plt.title(f'Train Label {i+1}')\n",
    "    plt.axis('off')\n",
    "\n",
    "# 调整子图间距\n",
    "plt.subplots_adjust(wspace=0.2, hspace=0.3)\n",
    "\n",
    "plt.tight_layout()\n",
    "plt.show()\n"
   ],
   "execution_count": 3,
   "outputs": []
  },
  {
   "cell_type": "code",
   "id": "afc8cfe621d4cfeb",
   "metadata": {
    "ExecuteTime": {
     "end_time": "2024-05-27T12:18:09.253022Z",
     "start_time": "2024-05-27T12:18:06.031436Z"
    }
   },
   "source": [
    "from torch.utils.data import DataLoader, TensorDataset\n",
    "import torch\n",
    "import numpy as np\n",
    "from load_data import load_data\n",
    "\n",
    "X_train,y_train,X_val,y_val,X_test,y_test = load_data()\n",
    "\n",
    "# def print_arrays_containing_value(y_train, value=28):\n",
    "#     # 遍历y_train中的每个子数组\n",
    "#     for idx, y in enumerate(y_train):\n",
    "#         if value in y:\n",
    "#             print(f\"Array index {idx} contains value {value}:\\n{y}\\n\")\n",
    "\n",
    "\n",
    "X_train = np.transpose(X_train, (0, 3, 1, 2))\n",
    "X_val = np.transpose(X_val, (0, 3, 1, 2))\n",
    "X_test = np.transpose(X_test, (0, 3, 1, 2))\n",
    "X_train_tensor = torch.FloatTensor(X_train)\n",
    "Y_train_tensor = torch.LongTensor(y_train)\n",
    "X_val_tensor = torch.FloatTensor(X_val)\n",
    "Y_val_tensor = torch.LongTensor(y_val)\n",
    "X_test_tensor = torch.FloatTensor(X_test)\n",
    "Y_test_tensor = torch.LongTensor(y_test)\n",
    "\n",
    "# 定义数据加载器\n",
    "train_dataset = TensorDataset(X_train_tensor, Y_train_tensor)\n",
    "val_dataset = TensorDataset(X_val_tensor, Y_val_tensor)\n",
    "test_dataset = TensorDataset(X_test_tensor, Y_test_tensor)\n",
    "batch_size = 8\n",
    "train_loader = DataLoader(train_dataset, batch_size=batch_size, shuffle=True)\n",
    "val_loader = DataLoader(val_dataset, batch_size=batch_size, shuffle=False)\n",
    "test_loader = DataLoader(test_dataset, batch_size=batch_size, shuffle=False)\n",
    "\n"
   ],
   "execution_count": 4,
   "outputs": []
  },
  {
   "metadata": {
    "ExecuteTime": {
     "end_time": "2024-05-27T10:32:11.606716Z",
     "start_time": "2024-05-27T10:32:11.571092Z"
    }
   },
   "cell_type": "code",
   "source": [
    "import torch\n",
    "\n",
    "# 检查是否有可用的 GPU\n",
    "device = torch.device(\"cuda\" if torch.cuda.is_available() else \"cpu\")\n",
    "print(f\"Using device: {device}\")\n",
    "torch.cuda.empty_cache()  # 清理未使用的缓存\n",
    "\n",
    "import os\n",
    "os.environ['PYTORCH_CUDA_ALLOC_CONF'] = 'max_split_size_mb:128'\n",
    "torch.cuda.memory_summary(device=None, abbreviated=False)\n"
   ],
   "id": "80c39d9971a965dd",
   "execution_count": 4,
   "outputs": []
  },
  {
   "metadata": {
    "ExecuteTime": {
     "start_time": "2024-05-27T07:47:50.133964Z"
    }
   },
   "cell_type": "code",
   "source": [
    "import gc\n",
    "gc.collect()"
   ],
   "id": "75bd9c8ed39ec028",
   "execution_count": null,
   "outputs": []
  },
  {
   "cell_type": "code",
   "id": "3f93a96e909f549f",
   "metadata": {
    "ExecuteTime": {
     "end_time": "2024-05-27T09:30:25.554372Z",
     "start_time": "2024-05-27T08:35:44.786390Z"
    }
   },
   "source": [
    "import torch\n",
    "import torch.nn as nn\n",
    "import torch.optim as optim\n",
    "from fcn import MyUNet\n",
    "\n",
    "# 定义模型、损失函数和优化器\n",
    "model = MyUNet(n_channels=3, n_classes=3)\n",
    "criterion = nn.CrossEntropyLoss()  # 使用交叉熵损失函数\n",
    "optimizer = optim.Adam(model.parameters(), lr=0.001)  # 使用Adam优化器\n",
    "\n",
    "device = torch.device(\"cuda\" if torch.cuda.is_available() else \"cpu\")\n",
    "model.to(device)\n",
    "\n",
    "def train(model, device, train_loader, optimizer, criterion, n_epochs, val_loader=None):\n",
    "    train_losses = []  # 记录每个epoch的训练损失\n",
    "    val_losses = []    # 记录每个epoch的验证损失\n",
    "    for epoch in range(n_epochs):\n",
    "        model.train()\n",
    "        running_loss = 0.0\n",
    "        for images, labels in train_loader:\n",
    "            images, labels = images.to(device), labels.to(device)\n",
    "            optimizer.zero_grad()\n",
    "            outputs = model(images)\n",
    "            loss = criterion(outputs, labels)\n",
    "            loss.backward()\n",
    "            optimizer.step()\n",
    "            running_loss += loss.item() * images.size(0)\n",
    "        epoch_train_loss = running_loss / len(train_loader.dataset)\n",
    "        train_losses.append(epoch_train_loss)\n",
    "        print(f'Epoch {epoch+1} Training Loss: {epoch_train_loss:.4f}')\n",
    "\n",
    "        if val_loader is not None:\n",
    "            val_loss = validate(model, device, val_loader, criterion)\n",
    "            val_losses.append(val_loss)\n",
    "        # 绘制训练和验证损失曲线\n",
    "    plt.figure(figsize=(10, 5))\n",
    "    plt.plot(range(1, n_epochs+1), train_losses, label='Training Loss')\n",
    "    if val_loader is not None:\n",
    "        plt.plot(range(1, n_epochs+1), val_losses, label='Validation Loss')\n",
    "    plt.title('Loss over epochs')\n",
    "    plt.xlabel('Epochs')\n",
    "    plt.ylabel('Loss')\n",
    "    plt.legend()\n",
    "    plt.show()\n",
    "    return train_losses, val_losses\n",
    "\n",
    "def validate(model, device, val_loader, criterion):\n",
    "    model.eval()\n",
    "    val_loss = 0.0\n",
    "    correct = 0\n",
    "    total = 0\n",
    "    with torch.no_grad():\n",
    "        for images, labels in val_loader:\n",
    "            images, labels = images.to(device), labels.to(device)\n",
    "            outputs = model(images)\n",
    "            loss = criterion(outputs, labels)\n",
    "            val_loss += loss.item() * images.size(0)\n",
    "            _, predicted = torch.max(outputs, 1)\n",
    "            total += labels.numel()\n",
    "            correct += (predicted == labels).sum().item()\n",
    "            print(correct)\n",
    "\n",
    "    val_loss /= len(val_loader.dataset)\n",
    "    accuracy = 100 * correct / total\n",
    "    print(f'Validation Loss: {val_loss:.4f}, Accuracy: {correct}/ {total}/{accuracy:.2f}%')\n",
    "    return val_loss\n",
    "\n",
    "# 假设train_loader和val_loader是你的训练集和验证集数据加载器\n",
    "train_losses, val_losses = train(model, device, train_loader, optimizer, criterion, n_epochs=10, val_loader=val_loader)\n",
    "\n",
    "# 打印训练损失和验证损失的变化\n",
    "print(\"Training Losses:\")\n",
    "for epoch, loss in enumerate(train_losses):\n",
    "    print(f\"Epoch {epoch+1}: {loss:.4f}\")\n",
    "\n",
    "print(\"\\nValidation Losses:\")\n",
    "for epoch, loss in enumerate(val_losses):\n",
    "    print(f\"Epoch {epoch+1}: {loss:.4f}\")\n",
    "\n"
   ],
   "execution_count": 6,
   "outputs": []
  },
  {
   "metadata": {
    "ExecuteTime": {
     "end_time": "2024-05-27T09:31:20.569383Z",
     "start_time": "2024-05-27T09:31:20.545451Z"
    }
   },
   "cell_type": "code",
   "source": [
    "torch.save({\n",
    "    'model_state_dict': model.state_dict(),\n",
    "    'optimizer_state_dict': optimizer.state_dict()\n",
    "}, 'model_and_optimizer.pth')"
   ],
   "id": "e00e2635a065ca11",
   "execution_count": 8,
   "outputs": []
  },
  {
   "metadata": {
    "ExecuteTime": {
     "end_time": "2024-05-27T12:18:26.409893Z",
     "start_time": "2024-05-27T12:18:25.476544Z"
    }
   },
   "cell_type": "code",
   "source": [
    "import torch\n",
    "import torch.nn as nn\n",
    "from fcn import MyUNet\n",
    "import torch.optim as optim\n",
    "device = torch.device(\"cuda\" if torch.cuda.is_available() else \"cpu\")\n",
    "\n",
    "# 加载模型参数和优化器状态\n",
    "checkpoint = torch.load('model_and_optimizer.pth')\n",
    "model = MyUNet(n_channels=3, n_classes=3)\n",
    "optimizer = optim.Adam(model.parameters(), lr=0.001)\n",
    "\n",
    "model.load_state_dict(checkpoint['model_state_dict'])\n",
    "optimizer.load_state_dict(checkpoint['optimizer_state_dict'])\n",
    "\n",
    "model.to(device)  # 不要忘记将模型发送到正确\n",
    "model.eval()"
   ],
   "id": "576476b4cd1a48a8",
   "execution_count": 5,
   "outputs": []
  },
  {
   "metadata": {
    "jupyter": {
     "is_executing": true
    },
    "ExecuteTime": {
     "start_time": "2024-05-27T10:15:04.454630Z"
    }
   },
   "cell_type": "code",
   "source": [
    "import matplotlib.pyplot as plt\n",
    "import numpy as np\n",
    "\n",
    "def label_mapping(label):\n",
    "    if label == 0:\n",
    "        return \"背景\"\n",
    "    elif label == 1:\n",
    "        return \"煤\"\n",
    "    elif label == 2:\n",
    "        return \"煤矸石\"\n",
    "\n",
    "def print_portion(prediction):\n",
    "    # 计算预测结果中各标签的占比\n",
    "    unique, counts = np.unique(prediction, return_counts=True)\n",
    "    label_counts = dict(zip(unique, counts))\n",
    "    total_pixels = prediction.size\n",
    "    proportions = {label: count / total_pixels for label, count in label_counts.items()}\n",
    "\n",
    "    # 打印标签占比\n",
    "    print(\"标签占比:\")\n",
    "    for label1, proportion in proportions.items():\n",
    "        # Ensure label mapping does not fail with a KeyError\n",
    "        label_name = label_mapping(label1) if label1 in [0, 1, 2] else \"未知\"\n",
    "        print(f\"标签 {label_name}: {proportion:.2%}\")\n",
    "\n",
    "    if 1 in proportions and 2 in proportions:\n",
    "        print(f\"煤矸石占比为: {proportions[2] / (proportions[1] + proportions[2]):.2%}\")\n",
    "    else:\n",
    "        print(\"煤或煤矸石未出现在预测中。\")\n",
    "\n",
    "def visualize_prediction(model, data_loader, device):\n",
    "    model.eval()  # 确保模型处于评估模式\n",
    "    with torch.no_grad():\n",
    "        for images, labels in data_loader:\n",
    "            images, labels = images.to(device), labels.to(device)\n",
    "            outputs = model(images)\n",
    "            preds = outputs.argmax(dim=1)\n",
    "\n",
    "            # 遍历每张图片\n",
    "            for idx in range(images.size(0)):\n",
    "                label = labels[idx].cpu().numpy()\n",
    "                prediction = preds[idx].cpu().numpy()\n",
    "\n",
    "                print(f\"===== 图片 {idx+1} 原始label =====\")\n",
    "                print_portion(label)\n",
    "\n",
    "                print(f\"===== 图片 {idx+1} 预测结果 =====\")\n",
    "                print_portion(prediction)\n",
    "\n",
    "                # 可视化，只展示Ground Truth和Prediction\n",
    "                fig, ax = plt.subplots(1, 2, figsize=(5, 2.5))  # 改为显示两列\n",
    "                ax[0].imshow(label, cmap='gray')\n",
    "                ax[0].set_title('Ground Truth')\n",
    "                ax[1].imshow(prediction, cmap='gray')\n",
    "                ax[1].set_title('Prediction')\n",
    "                plt.show()\n",
    "\n",
    "# 测试并可视化结果\n",
    "visualize_prediction(model, test_loader, device)\n"
   ],
   "id": "c2e5e09b689771a1",
   "execution_count": null,
   "outputs": []
  },
  {
   "metadata": {
    "ExecuteTime": {
     "end_time": "2024-05-27T10:26:36.203212Z",
     "start_time": "2024-05-27T10:26:28.067735Z"
    }
   },
   "cell_type": "code",
   "source": [
    "import numpy as np\n",
    "import torch\n",
    "from sklearn.metrics import roc_curve, precision_recall_curve, auc\n",
    "import matplotlib.pyplot as plt\n",
    "from fcn import MyUNet\n",
    "import torch.optim as optim\n",
    "\n",
    "\n",
    "# 设置打印选项，禁用省略\n",
    "np.set_printoptions(threshold=1000)\n",
    "\n",
    "def get_predictions_and_labels(model, data_loader, device):\n",
    "    model.eval()\n",
    "    all_labels = []\n",
    "    all_scores = []\n",
    "    \n",
    "    with torch.no_grad():\n",
    "        for images, labels in data_loader:\n",
    "            images = images.to(device)\n",
    "            labels = labels.to(device)\n",
    "            outputs = model(images)\n",
    "            # 获取预测分数（softmax后的概率）\n",
    "            scores = torch.softmax(outputs, dim=1)  # (batch_size, num_classes, H, W)\n",
    "            max_scores, max_indices = torch.max(scores, dim=1)\n",
    "            #max_indices_np = max_indices.cpu().numpy()  # 如果是在 PyTorch 中\n",
    "\n",
    "            # 选择要统计的图像索引，例如第一张图像\n",
    "            #selected_image = max_indices_np[0]\n",
    "            \n",
    "            # 使用 np.unique 计算每个类别索引的出现次数\n",
    "            #unique_values, counts = np.unique(selected_image, return_counts=True)\n",
    "            \n",
    "            # 打印结果\n",
    "            #for value, count in zip(unique_values, counts):\n",
    "            ##    print(f\"Value {value} appears {count} times\")\n",
    "            #break\n",
    "            #print(labels.cpu().numpy().shape)\n",
    "            all_labels.append(labels.cpu().numpy().flatten())\n",
    "            all_scores.append(max_indices.cpu().numpy().flatten())\n",
    "    \n",
    "    all_labels = np.concatenate(all_labels)\n",
    "    all_scores = np.concatenate(all_scores)\n",
    "    \n",
    "    return all_labels, all_scores\n",
    "\n",
    "def plot_roc_pr_curves(labels, predictions, num_classes):\n",
    "    fig, axs = plt.subplots(num_classes, 2, figsize=(12, 18))\n",
    "\n",
    "    for i in range(num_classes):\n",
    "        # 生成每个类别的伪概率\n",
    "        # 对于每个类别i，预测为i的设置为1，否则为0\n",
    "        pseudo_probabilities = (predictions == i).astype(float)\n",
    "\n",
    "        # 将标签转换为二分类格式：当前类别为1，其他类别为0\n",
    "        binary_labels = (labels == i).astype(int)\n",
    "\n",
    "        # 计算 ROC 曲线\n",
    "        fpr, tpr, _ = roc_curve(binary_labels, pseudo_probabilities)\n",
    "        roc_auc = auc(fpr, tpr)\n",
    "\n",
    "        # 计算 PR 曲线\n",
    "        precision, recall, _ = precision_recall_curve(binary_labels, pseudo_probabilities)\n",
    "        pr_auc = auc(recall, precision)\n",
    "\n",
    "        # 绘制 ROC 曲线\n",
    "        axs[i, 0].plot(fpr, tpr, label=f'ROC curve (area = {roc_auc:.2f})')\n",
    "        axs[i, 0].plot([0, 1], [0, 1], 'k--')\n",
    "        axs[i, 0].set_xlim([0.0, 1.0])\n",
    "        axs[i, 0].set_ylim([0.0, 1.05])\n",
    "        axs[i, 0].set_xlabel('False Positive Rate')\n",
    "        axs[i, 0].set_ylabel('True Positive Rate')\n",
    "        axs[i, 0].set_title(f'ROC - Class {i}')\n",
    "        axs[i, 0].legend(loc=\"lower right\")\n",
    "        \n",
    "        # 绘制 PR 曲线\n",
    "        axs[i, 1].plot(recall, precision, label=f'PR curve (area = {pr_auc:.2f})')\n",
    "        axs[i, 1].set_xlim([0.0, 1.0])\n",
    "        axs[i, 1].set_ylim([0.0, 1.05])\n",
    "        axs[i, 1].set_xlabel('Recall')\n",
    "        axs[i, 1].set_ylabel('Precision')\n",
    "        axs[i, 1].set_title(f'PR - Class {i}')\n",
    "        axs[i, 1].legend(loc=\"lower right\")\n",
    "    \n",
    "    plt.tight_layout()\n",
    "    plt.show()\n",
    "\n",
    "# 加载模型和优化器状态\n",
    "checkpoint = torch.load('model_and_optimizer.pth')\n",
    "model = MyUNet(n_channels=3, n_classes=3)\n",
    "optimizer = optim.Adam(model.parameters(), lr=0.001)\n",
    "\n",
    "model.load_state_dict(checkpoint['model_state_dict'])\n",
    "optimizer.load_state_dict(checkpoint['optimizer_state_dict'])\n",
    "device = torch.device(\"cuda\" if torch.cuda.is_available() else \"cpu\")\n",
    "model.to(device)  # 不要忘记将模型发送到正确的设备\n",
    "model.eval()\n",
    "\n",
    "# 获取测试集上的预测结果和真实标签\n",
    "labels, scores = get_predictions_and_labels(model, test_loader, device)\n",
    "# 确保长度一致\n",
    "assert len(labels) == scores.shape[0], \"Labels and scores length mismatch\"\n",
    "\n",
    "# 绘制 ROC 曲线和 PR 曲线\n",
    "plot_roc_pr_curves(labels, scores, num_classes=3)"
   ],
   "id": "bfdb0599f8e21fcc",
   "execution_count": 14,
   "outputs": []
  },
  {
   "metadata": {
    "ExecuteTime": {
     "start_time": "2024-05-27T07:47:50.142477Z"
    }
   },
   "cell_type": "code",
   "source": "",
   "id": "7568d1a2caac83",
   "execution_count": null,
   "outputs": []
  }
 ],
 "metadata": {
  "kernelspec": {
   "display_name": "Python 3",
   "language": "python",
   "name": "python3"
  },
  "language_info": {
   "codemirror_mode": {
    "name": "ipython",
    "version": 3
   },
   "file_extension": ".py",
   "mimetype": "text/x-python",
   "name": "python",
   "nbconvert_exporter": "python",
   "pygments_lexer": "ipython3",
   "version": "3.10.14"
  }
 },
 "nbformat": 4,
 "nbformat_minor": 5
}
